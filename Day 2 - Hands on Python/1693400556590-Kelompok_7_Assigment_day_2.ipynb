{
  "nbformat": 4,
  "nbformat_minor": 0,
  "metadata": {
    "colab": {
      "provenance": []
    },
    "kernelspec": {
      "name": "python3",
      "display_name": "Python 3"
    },
    "language_info": {
      "name": "python"
    }
  },
  "cells": [
    {
      "cell_type": "code",
      "execution_count": 1,
      "metadata": {
        "colab": {
          "base_uri": "https://localhost:8080/"
        },
        "id": "AtLwLGeIyqM_",
        "outputId": "fb72816c-a73e-4f8b-9bcc-5569f62b22db"
      },
      "outputs": [
        {
          "output_type": "stream",
          "name": "stdout",
          "text": [
            "kelompok 7\n"
          ]
        }
      ],
      "source": [
        "kelompok = \"kelompok 7\"\n",
        "anggota = \"Animni Fiddaroini, Alya Nabila, Gloria Wiradika.Z, Fathur Rahman.S, Imas Siti Masitoh\"\n",
        "print (kelompok)"
      ]
    },
    {
      "cell_type": "code",
      "source": [
        "#Assigment 1\n",
        "str_val = \"Balonku ada lima\"\n",
        "str_val = str_val.replace (\"o\" , \"a\")\n",
        "str_val = str_val.replace (\"u\" , \"a\")\n",
        "str_val = str_val.replace (\"i\" , \"a\")\n",
        "print (str_val)"
      ],
      "metadata": {
        "colab": {
          "base_uri": "https://localhost:8080/"
        },
        "id": "ZjKjMD48y1VP",
        "outputId": "66c11eff-8f4f-4987-cebe-38da25bf2278"
      },
      "execution_count": 2,
      "outputs": [
        {
          "output_type": "stream",
          "name": "stdout",
          "text": [
            "Balanka ada lama\n"
          ]
        }
      ]
    },
    {
      "cell_type": "code",
      "source": [
        "#Assigment 2\n",
        "def check_attendance(Class_held, Student, Class_attended):\n",
        "    for i in range(len(Student)):\n",
        "        attendance_percentage = (Class_attended[i] / Class_held) * 100\n",
        "\n",
        "        if attendance_percentage >= 75:\n",
        "            print(f\"Kehadiran {Student[i]} lebih dari 75%, dapat mengikuti ujian cunin\")\n",
        "        else:\n",
        "            print(f\"Kehadiran {Student[i]} kurang dari 75%, tidak dapat mengikuti ujian cunin\")\n",
        "\n",
        "Class_held = 20\n",
        "Student = [\"Asnawi\", \"Haaland\", \"Hazard\", \"Maudy Ayunan\", \"Marselino\", \"Dembele\"]\n",
        "Class_attended = [18, 19, 10, 20, 17, 13]\n",
        "\n",
        "students_to_check = [\"Asnawi\", \"Hazard\", \"Dembele\"]\n",
        "for i in range(len(Student)):\n",
        "    if Student[i] in students_to_check:\n",
        "        check_attendance(Class_held, [Student[i]], [Class_attended[i]])"
      ],
      "metadata": {
        "colab": {
          "base_uri": "https://localhost:8080/"
        },
        "id": "D-nZJXCUy5yj",
        "outputId": "a5dd311b-0eab-458a-cba0-c1a22649f5fc"
      },
      "execution_count": 3,
      "outputs": [
        {
          "output_type": "stream",
          "name": "stdout",
          "text": [
            "Kehadiran Asnawi lebih dari 75%, dapat mengikuti ujian cunin\n",
            "Kehadiran Hazard kurang dari 75%, tidak dapat mengikuti ujian cunin\n",
            "Kehadiran Dembele kurang dari 75%, tidak dapat mengikuti ujian cunin\n"
          ]
        }
      ]
    }
  ]
}