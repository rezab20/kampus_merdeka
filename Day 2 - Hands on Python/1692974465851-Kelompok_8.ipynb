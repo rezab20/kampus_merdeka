{
  "nbformat": 4,
  "nbformat_minor": 0,
  "metadata": {
    "colab": {
      "provenance": []
    },
    "kernelspec": {
      "name": "python3",
      "display_name": "Python 3"
    },
    "language_info": {
      "name": "python"
    }
  },
  "cells": [
    {
      "cell_type": "markdown",
      "source": [
        "# **KELOMPOK 8**\n",
        "Anggota Kelompok:\n",
        "1. Arsya Hendratno Putri\n",
        "2. Fegi Anora\n",
        "3. Jab Yoan Efendi\n",
        "4. Zikri Muhammad Madani"
      ],
      "metadata": {
        "id": "AG2niLCaILLU"
      }
    },
    {
      "cell_type": "markdown",
      "source": [
        "# 1"
      ],
      "metadata": {
        "id": "9bitC1LUIhDA"
      }
    },
    {
      "cell_type": "markdown",
      "source": [
        "Write a program to change vocal word (\"a,i,u,e,o\") into \"a\" .Example:\n",
        "\n",
        "Input:\n",
        "lirik = \"balonku ada lima\"\n",
        "\n",
        "Output:\n",
        "\"balanka ada lama\""
      ],
      "metadata": {
        "id": "HT1tyuo793lR"
      }
    },
    {
      "cell_type": "code",
      "execution_count": 50,
      "metadata": {
        "id": "Zb9l9vo99brx"
      },
      "outputs": [],
      "source": [
        "def ubahKeA(X):\n",
        "  # List huruf vokal.\n",
        "  vokal = ['a', 'i', 'u', 'e', 'o']\n",
        "  # Inisialisasi output.\n",
        "  output = ''\n",
        "\n",
        "  for char in X:\n",
        "    if char in vokal:\n",
        "      output += 'a'\n",
        "    else:\n",
        "      output += char\n",
        "  print(output)"
      ]
    },
    {
      "cell_type": "code",
      "source": [
        "lirik = \"balonku ada lima\"\n",
        "ubahKeA(lirik)"
      ],
      "metadata": {
        "colab": {
          "base_uri": "https://localhost:8080/"
        },
        "id": "NDK_4if9Im3z",
        "outputId": "b13ee739-6626-438d-973f-097accf19f56"
      },
      "execution_count": 51,
      "outputs": [
        {
          "output_type": "stream",
          "name": "stdout",
          "text": [
            "balanka ada lama\n"
          ]
        }
      ]
    },
    {
      "cell_type": "markdown",
      "source": [
        "# 2"
      ],
      "metadata": {
        "id": "sqYQfbytIl3U"
      }
    },
    {
      "cell_type": "markdown",
      "source": [
        "Write a program to check student attendance. A student will not be allowed to sit an exam if his/her attendance is less than 75%. Example:\n",
        "\n",
        "Input:\n",
        "Class_held = 20\n",
        "\n",
        "Student = [“Asnawi”, “Haaland”, “Hazard”, “Maudy Ayunan”,  “Marselino”, “Dembele”]\n",
        "\n",
        "Class_attended = [18, 19, 10, 20, 17, 13]\n",
        "\n",
        "Output:\n",
        "\n",
        "Kehadiran asnawi lebih dari 75%, dapat mengikuti ujian cunin\n",
        "\n",
        "Kehadiran hazard kurang dari 75%, tidak dapat mengikuti ujian cunin\n",
        "\n",
        "Kehadiran dembele kurang dari 75%, tidak dapat mengikuti ujian cunin"
      ],
      "metadata": {
        "id": "h3Xcf0hbB-g_"
      }
    },
    {
      "cell_type": "code",
      "source": [
        "def check(class_held, student, class_attended):\n",
        "  # Inisialisasi output.\n",
        "  rekap = []\n",
        "\n",
        "  for i in range(len(student)):\n",
        "    percentage = (class_attended[i] / class_held) * 100\n",
        "    if percentage >= 75:\n",
        "      hasil = f\"Kehadiran {student[i]} lebih dari 75%, dapat mengikuti ujian cunin\"\n",
        "    else:\n",
        "      hasil = f\"Kehadiran {student[i]} kurang dari 75%, dapat mengikuti ujian cunin\"\n",
        "    rekap.append(hasil)\n",
        "\n",
        "  return rekap"
      ],
      "metadata": {
        "id": "PTKE1fepCD-J"
      },
      "execution_count": 47,
      "outputs": []
    },
    {
      "cell_type": "code",
      "source": [
        "class_held = 20\n",
        "student = [\"Asnawi\", \"Haaland\", \"Hazard\", \"Maudy Ayunan\", \"Marselino\", \"Dembele\"]\n",
        "class_attended = [18, 19, 10, 20, 17, 13]\n",
        "\n",
        "rekap = check(class_held, student, class_attended)\n",
        "\n",
        "for j in rekap:\n",
        "  print(j)"
      ],
      "metadata": {
        "id": "FkSi0xyiDnQU",
        "colab": {
          "base_uri": "https://localhost:8080/"
        },
        "outputId": "4c0f4cfa-16a7-4a0f-a88e-a3c7bac97879"
      },
      "execution_count": 49,
      "outputs": [
        {
          "output_type": "stream",
          "name": "stdout",
          "text": [
            "Kehadiran Asnawi lebih dari 75%, dapat mengikuti ujian cunin\n",
            "Kehadiran Haaland lebih dari 75%, dapat mengikuti ujian cunin\n",
            "Kehadiran Hazard kurang dari 75%, dapat mengikuti ujian cunin\n",
            "Kehadiran Maudy Ayunan lebih dari 75%, dapat mengikuti ujian cunin\n",
            "Kehadiran Marselino lebih dari 75%, dapat mengikuti ujian cunin\n",
            "Kehadiran Dembele kurang dari 75%, dapat mengikuti ujian cunin\n"
          ]
        }
      ]
    }
  ]
}