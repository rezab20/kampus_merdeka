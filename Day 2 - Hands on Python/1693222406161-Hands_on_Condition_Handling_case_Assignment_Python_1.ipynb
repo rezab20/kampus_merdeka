{
  "nbformat": 4,
  "nbformat_minor": 0,
  "metadata": {
    "colab": {
      "provenance": []
    },
    "kernelspec": {
      "name": "python3",
      "display_name": "Python 3"
    },
    "language_info": {
      "name": "python"
    }
  },
  "cells": [
    {
      "cell_type": "code",
      "source": [
        "input_str = input(\"Enter a string: \")\n",
        "vowels = \"aiueo\"\n",
        "for vowel in vowels:\n",
        "    input_str = input_str.replace(vowel, \"a\")\n",
        "print(input_str)"
      ],
      "metadata": {
        "colab": {
          "base_uri": "https://localhost:8080/"
        },
        "id": "UMW4GitZ6zX6",
        "outputId": "cdff4d09-529d-4a04-d748-12a8125ad4ad"
      },
      "execution_count": null,
      "outputs": [
        {
          "output_type": "stream",
          "name": "stdout",
          "text": [
            "Enter a string: balonku ada lima\n",
            "balanka ada lama\n"
          ]
        }
      ]
    },
    {
      "cell_type": "code",
      "source": [
        "class_held = int(input(\"Enter the number of classes held: \"))\n",
        "students = [\"Asnawi\", \"Haaland\", \"Hazard\", \"Maudy Ayunan\", \"Marselino\", \"Dembele\"]\n",
        "classes_attended = [18, 19, 10, 20, 17, 13]\n",
        "\n",
        "for i in range(len(students)):\n",
        "    attendance_percentage = (classes_attended[i] / class_held) * 100\n",
        "    if attendance_percentage >= 75:\n",
        "        print(f\"Kehadiran {students[i]} lebih dari 75%, dapat mengikuti ujian cunin\")\n",
        "    else:\n",
        "        print(f\"Kehadiran {students[i]} kurang dari 75%, tidak dapat mengikuti ujian cunin\")"
      ],
      "metadata": {
        "colab": {
          "base_uri": "https://localhost:8080/"
        },
        "id": "c7oSzQieB79V",
        "outputId": "d774c5e9-01c8-4991-adfe-defd17a8acb8"
      },
      "execution_count": null,
      "outputs": [
        {
          "output_type": "stream",
          "name": "stdout",
          "text": [
            "Enter the number of classes held: 20\n",
            "Kehadiran Asnawi lebih dari 75%, dapat mengikuti ujian cunin\n",
            "Kehadiran Haaland lebih dari 75%, dapat mengikuti ujian cunin\n",
            "Kehadiran Hazard kurang dari 75%, tidak dapat mengikuti ujian cunin\n",
            "Kehadiran Maudy Ayunan lebih dari 75%, dapat mengikuti ujian cunin\n",
            "Kehadiran Marselino lebih dari 75%, dapat mengikuti ujian cunin\n",
            "Kehadiran Dembele kurang dari 75%, tidak dapat mengikuti ujian cunin\n"
          ]
        }
      ]
    }
  ]
}