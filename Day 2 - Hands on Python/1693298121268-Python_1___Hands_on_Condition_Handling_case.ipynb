{
  "nbformat": 4,
  "nbformat_minor": 0,
  "metadata": {
    "colab": {
      "provenance": []
    },
    "kernelspec": {
      "name": "python3",
      "display_name": "Python 3"
    },
    "language_info": {
      "name": "python"
    }
  },
  "cells": [
    {
      "cell_type": "markdown",
      "source": [
        "Mentor : Reza Budi Pratikto\n",
        "\n",
        "Kelompok 6\n",
        "\n",
        "1. Elsa Rahma Hidayani\n",
        "2. Gabriel Khoirul Huga\n",
        "3. Gadis Syahrani Elhakim\n",
        "4. Yara Rivayanti\n",
        "5. Indah Monica Dewi"
      ],
      "metadata": {
        "id": "3t9rOb7dsPWy"
      }
    },
    {
      "cell_type": "markdown",
      "source": [
        "#No 1"
      ],
      "metadata": {
        "id": "G_Iqsy_aK6J1"
      }
    },
    {
      "cell_type": "code",
      "execution_count": null,
      "metadata": {
        "id": "RzjLK5GYsI99",
        "outputId": "d463bc99-a146-438e-aad6-1c90e6657dd9",
        "colab": {
          "base_uri": "https://localhost:8080/"
        }
      },
      "outputs": [
        {
          "output_type": "stream",
          "name": "stdout",
          "text": [
            "balanka ada lama\n"
          ]
        }
      ],
      "source": [
        "str_val = \"balonku ada lima\"\n",
        "\n",
        "str_val = str_val.replace(\"o\",\"a\")\n",
        "str_val = str_val.replace(\"u\",\"a\")\n",
        "str_val = str_val.replace(\"i\",\"a\")\n",
        "\n",
        "print(str_val)"
      ]
    },
    {
      "cell_type": "markdown",
      "source": [
        "# Pengerjaan No 1 dapat diselesaikan juga dengan"
      ],
      "metadata": {
        "id": "cp1oACCcKk54"
      }
    },
    {
      "cell_type": "code",
      "source": [
        "word = input(\"Masukkan kata (lowercase): \")\n",
        "word = word.replace(\"o\", \"a\")\n",
        "word = word.replace(\"i\", \"a\")\n",
        "word = word.replace(\"u\", \"a\")\n",
        "word = word.replace(\"e\", \"a\")\n",
        "print(\"Berubah menjadi: \" + word)"
      ],
      "metadata": {
        "id": "vem6PAvQHP87",
        "colab": {
          "base_uri": "https://localhost:8080/"
        },
        "outputId": "5636b442-a222-425a-94b9-ba98236ab08b"
      },
      "execution_count": null,
      "outputs": [
        {
          "output_type": "stream",
          "name": "stdout",
          "text": [
            "Masukkan kata (lowercase): balonku ada lima\n",
            "Berubah menjadi: balanka ada lama\n"
          ]
        }
      ]
    },
    {
      "cell_type": "markdown",
      "source": [
        "#No 2"
      ],
      "metadata": {
        "id": "cv8P9dFMKu1q"
      }
    },
    {
      "cell_type": "code",
      "source": [
        "Class_held = 20\n",
        "Students = [\"Asnawi\", \"Haaland\", \"Hazard\", \"Maudy Ayunan\", \"Marselino\", \"Dembele\"]\n",
        "Class_attended = [18, 19, 10, 20, 17, 13]\n",
        "\n",
        "def check_attendance(Class_held, Students, Class_attended):\n",
        "\n",
        "    for i in range(len(Students)):\n",
        "        attendance_percentage = (Class_attended[i] / Class_held) * 100\n",
        "\n",
        "        if attendance_percentage >= 75:\n",
        "            hasil = \"lebih dari 75%, dapat mengikuti ujian cunin\"\n",
        "        else:\n",
        "            hasil = \"kurang dari 75%, tidak dapat mengikuti ujian cunin\"\n",
        "\n",
        "        print(f\"Kehadiran {Students[i]} {hasil}\")\n",
        "\n",
        "check_attendance(Class_held, Students, Class_attended)"
      ],
      "metadata": {
        "id": "-CIYpEIdsNyR",
        "outputId": "e669516e-0344-4738-e55a-1974242034e6",
        "colab": {
          "base_uri": "https://localhost:8080/"
        }
      },
      "execution_count": null,
      "outputs": [
        {
          "output_type": "stream",
          "name": "stdout",
          "text": [
            "Kehadiran Asnawi lebih dari 75%, dapat mengikuti ujian cunin\n",
            "Kehadiran Haaland lebih dari 75%, dapat mengikuti ujian cunin\n",
            "Kehadiran Hazard kurang dari 75%, tidak dapat mengikuti ujian cunin\n",
            "Kehadiran Maudy Ayunan lebih dari 75%, dapat mengikuti ujian cunin\n",
            "Kehadiran Marselino lebih dari 75%, dapat mengikuti ujian cunin\n",
            "Kehadiran Dembele kurang dari 75%, tidak dapat mengikuti ujian cunin\n"
          ]
        }
      ]
    }
  ]
}