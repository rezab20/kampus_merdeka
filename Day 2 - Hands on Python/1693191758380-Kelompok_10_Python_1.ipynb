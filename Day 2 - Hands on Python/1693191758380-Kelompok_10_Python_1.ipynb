{
  "nbformat": 4,
  "nbformat_minor": 0,
  "metadata": {
    "colab": {
      "provenance": []
    },
    "kernelspec": {
      "name": "python3",
      "display_name": "Python 3"
    },
    "language_info": {
      "name": "python"
    }
  },
  "cells": [
    {
      "cell_type": "code",
      "execution_count": null,
      "metadata": {
        "colab": {
          "base_uri": "https://localhost:8080/"
        },
        "id": "ngtAW5NNynpC",
        "outputId": "c71af857-7ad6-4289-e2ec-08045794bf6f"
      },
      "outputs": [
        {
          "output_type": "stream",
          "name": "stdout",
          "text": [
            "Selamat Datang di Kelompok 10\n",
            "1. Nindya Permatasari\n",
            "2. Dina Oktavia\n",
            "3. Nurul Badriyah\n",
            "4. Nining Solikhah\n"
          ]
        }
      ],
      "source": [
        "kelompok_10 = [\"Selamat Datang di Kelompok 10\",\n",
        "               \"1. Nindya Permatasari\",\n",
        "               \"2. Dina Oktavia\",\n",
        "               \"3. Nurul Badriyah\",\n",
        "               \"4. Nining Solikhah\"]\n",
        "for anggota in kelompok_10:\n",
        "  print(anggota)"
      ]
    },
    {
      "cell_type": "markdown",
      "source": [
        "Assignment 1\n",
        "Write a program to change vocal word (\"a,i,u,e,o\") into \"a\" .Example:\n",
        "\n",
        "Input:\n",
        "\n",
        "lirik = \"balonku ada lima\"\n",
        "\n",
        "Output:\n",
        "\n",
        "\"balanka ada lama\"\n"
      ],
      "metadata": {
        "id": "TBMkpTi_22nN"
      }
    },
    {
      "cell_type": "code",
      "source": [
        "def ubah_vokal(text):\n",
        "    vokal = \"aiueo\"\n",
        "    result = \"\"\n",
        "\n",
        "    for char in text:\n",
        "        if char.lower() in vokal:\n",
        "            result += 'a'\n",
        "        else:\n",
        "            result += char\n",
        "    return result\n",
        "\n",
        "lirik = \"balonku ada lima\"\n",
        "hasil_ubah = ubah_vokal(lirik)\n",
        "print(hasil_ubah)\n"
      ],
      "metadata": {
        "colab": {
          "base_uri": "https://localhost:8080/"
        },
        "id": "D3jmmWCr5jBw",
        "outputId": "53cde6eb-4df3-4340-b80c-f6b771398a6f"
      },
      "execution_count": 19,
      "outputs": [
        {
          "output_type": "stream",
          "name": "stdout",
          "text": [
            "balanka ada lama\n"
          ]
        }
      ]
    },
    {
      "cell_type": "code",
      "source": [
        "def ubah_vokal(teks):\n",
        "    vokal_map = {\n",
        "        'a': 'a',\n",
        "        'i': 'I',\n",
        "        'u': 'u',\n",
        "        'e': 'e',\n",
        "        'o': 'o'\n",
        "    }\n",
        "    result = \"\"\n",
        "    for kata in teks.split():\n",
        "      kata_baru = \"\"\n",
        "      for char in kata:\n",
        "        if char.lower() in vokal_map:\n",
        "            kata_baru += vokal_map[char.lower()]\n",
        "        else:\n",
        "            kata_baru += char\n",
        "      result += kata_baru + \" \"\n",
        "    return result.strip()\n",
        "\n",
        "lirik = \"balonku ada lima\"\n",
        "hasil_ubah = ubah_vokal(lirik)\n",
        "print(hasil_ubah)"
      ],
      "metadata": {
        "colab": {
          "base_uri": "https://localhost:8080/"
        },
        "id": "_LkQ1A-T7pzl",
        "outputId": "aed4a599-ff2d-495c-d5b4-2ea60d86d5c3"
      },
      "execution_count": 20,
      "outputs": [
        {
          "output_type": "stream",
          "name": "stdout",
          "text": [
            "balonku ada lIma\n"
          ]
        }
      ]
    },
    {
      "cell_type": "code",
      "source": [
        "lirik = \"balonku ada lima\"\n",
        "hasil_ubah = ubah_vokal(lirik)\n",
        "print(hasil_ubah)\n",
        "\n",
        "lirik = \"bilinki idi limi\"\n",
        "hasil_ubah = ubah_vokal(lirik)\n",
        "print(hasil_ubah)\n",
        "\n",
        "lirik = \"bulunku udu lumu\"\n",
        "hasil_ubah = ubah_vokal(lirik)\n",
        "print(hasil_ubah)\n",
        "\n",
        "lirik = \"belenke ede leme\"\n",
        "hasil_ubah = ubah_vokal(lirik)\n",
        "print(hasil_ubah)\n",
        "\n",
        "lirik = \"bolonko odo lomo\"\n",
        "hasil_ubah = ubah_vokal(lirik)\n",
        "print(hasil_ubah)"
      ],
      "metadata": {
        "colab": {
          "base_uri": "https://localhost:8080/"
        },
        "id": "x_wP6OKoIAi9",
        "outputId": "13ece18c-ea34-4cdf-d04b-9b349b076a39"
      },
      "execution_count": null,
      "outputs": [
        {
          "output_type": "stream",
          "name": "stdout",
          "text": [
            "balonku ada lIma\n",
            "bIlInkI IdI lImI\n",
            "bulunku udu lumu\n",
            "belenke ede leme\n",
            "bolonko odo lomo\n"
          ]
        }
      ]
    },
    {
      "cell_type": "markdown",
      "source": [],
      "metadata": {
        "id": "KIFmvGQY3YPG"
      }
    },
    {
      "cell_type": "markdown",
      "source": [
        "Write a program to check student attendance. A student will not be allowed to sit an exam if his/her attendance is less than 75%. Example:\n",
        "\n",
        "Input:\n",
        "\n",
        "Class_held = 20\n",
        "\n",
        "Student = [“Asnawi”, “Haaland”, “Hazard”, “Maudy Ayunan”,  “Marselino”, “Dembele”]\n",
        "\n",
        "Class_attended = [18, 19, 10, 20, 17, 13]\n",
        "\n",
        "Output:\n",
        "\n",
        "Kehadiran asnawi lebih dari 75%, dapat mengikuti ujian cunin\n",
        "\n",
        "Kehadiran hazard kurang dari 75%, tidak dapat mengikuti ujian cunin\n",
        "\n",
        "Kehadiran dembele kurang dari 75%, tidak dapat mengikuti ujian cunin"
      ],
      "metadata": {
        "id": "wbYRw6bX3Gno"
      }
    },
    {
      "cell_type": "code",
      "source": [
        "def check_attendance(Student, Class_attended):\n",
        "  attendance_percentage = (Class_attended /Class_held) * 100\n",
        "\n",
        "  if attendance_percentage >= 75:\n",
        "    return f\"Kehadiran {Student} lebih dari 75%, dapat mengikuti ujian cunin\"\n",
        "  else:\n",
        "    return f\"Kehadiran {Student} kurang dari 75%, tidak dapat mengikuti ujian cunin\"\n",
        "\n",
        "Class_held  = 20\n",
        "Student = [\"Asnawi\", \"Haaland\", \"Hazand\", \"Maudy Ayunan\", \"Marselino\", \"Dembele\"]\n",
        "Class_attended = [18, 19, 10, 20, 17, 13]\n",
        "\n",
        "for i in range(len(Student)):\n",
        "  result = check_attendance(Student[i], Class_attended[i])\n",
        "  print(result)"
      ],
      "metadata": {
        "colab": {
          "base_uri": "https://localhost:8080/"
        },
        "id": "R6KY-PQU3jFn",
        "outputId": "7f7b743f-c593-4881-e4d9-854dd572d0b0"
      },
      "execution_count": 21,
      "outputs": [
        {
          "output_type": "stream",
          "name": "stdout",
          "text": [
            "Kehadiran Asnawi lebih dari 75%, dapat mengikuti ujian cunin\n",
            "Kehadiran Haaland lebih dari 75%, dapat mengikuti ujian cunin\n",
            "Kehadiran Hazand kurang dari 75%, tidak dapat mengikuti ujian cunin\n",
            "Kehadiran Maudy Ayunan lebih dari 75%, dapat mengikuti ujian cunin\n",
            "Kehadiran Marselino lebih dari 75%, dapat mengikuti ujian cunin\n",
            "Kehadiran Dembele kurang dari 75%, tidak dapat mengikuti ujian cunin\n"
          ]
        }
      ]
    }
  ]
}